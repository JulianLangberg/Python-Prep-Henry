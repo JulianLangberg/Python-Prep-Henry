{
 "cells": [
  {
   "cell_type": "code",
   "execution_count": 60,
   "metadata": {},
   "outputs": [
    {
     "name": "stdout",
     "output_type": "stream",
     "text": [
      "La variable a es menor a cero\n"
     ]
    }
   ],
   "source": [
    "## 1) Crear una variable que contenga un elemento del conjunto de números enteros y luego imprimir por pantalla si es mayor o menor a cero\n",
    "\n",
    "a = -4\n",
    "if a > 0:\n",
    "    print(\"La variable a es mayor a cero\")\n",
    "elif a < 0:\n",
    "    print(\"La variable a es menor a cero\")\n",
    "else:\n",
    "    print(\"La variable a es igual a cero\")"
   ]
  },
  {
   "cell_type": "code",
   "execution_count": 61,
   "metadata": {},
   "outputs": [
    {
     "name": "stdout",
     "output_type": "stream",
     "text": [
      "Las variables b y c son del mismo tipo\n"
     ]
    }
   ],
   "source": [
    "# 2) Crear dos variables y un condicional que informe si son del mismo tipo de dato\n",
    "b= a + 8j\n",
    "c = 6 + 8J\n",
    "if type(b) == type(c):\n",
    "    print(\"Las variables b y c son del mismo tipo\")\n",
    "else:\n",
    "    print(\"Las variables b y c son de diferente tipo\");\n"
   ]
  },
  {
   "cell_type": "code",
   "execution_count": 62,
   "metadata": {},
   "outputs": [
    {
     "name": "stdout",
     "output_type": "stream",
     "text": [
      "El numero  2  es par\n",
      "El numero  3  no es par\n",
      "El numero  4  es par\n",
      "El numero  5  no es par\n",
      "El numero  6  es par\n",
      "El numero  7  no es par\n",
      "El numero  8  es par\n",
      "El numero  9  no es par\n",
      "El numero  10  es par\n",
      "El numero  11  no es par\n",
      "El numero  12  es par\n",
      "El numero  13  no es par\n",
      "El numero  14  es par\n",
      "El numero  15  no es par\n",
      "El numero  16  es par\n",
      "El numero  17  no es par\n",
      "El numero  18  es par\n",
      "El numero  19  no es par\n",
      "El numero  20  es par\n"
     ]
    }
   ],
   "source": [
    "#3) Para los valores enteros del 1 al 20, imprimir por pantalla si es par o impar\n",
    "\n",
    "for i in range(2,21): \n",
    "    if i % 2 == 0:\n",
    "        print(\"El numero \",str(i),\" es par\")\n",
    "    else:\n",
    "        print(\"El numero \",str(i),\" no es par\")"
   ]
  },
  {
   "cell_type": "code",
   "execution_count": 63,
   "metadata": {},
   "outputs": [
    {
     "name": "stdout",
     "output_type": "stream",
     "text": [
      "La potencia cúbica de  0  es:  0\n",
      "La potencia cúbica de  1  es:  1\n",
      "La potencia cúbica de  2  es:  8\n",
      "La potencia cúbica de  3  es:  27\n",
      "La potencia cúbica de  4  es:  64\n",
      "La potencia cúbica de  5  es:  125\n"
     ]
    }
   ],
   "source": [
    "#4) En un ciclo for mostrar para los valores entre 0 y 5 el resultado de \n",
    "# elevarlo a la potencia igual a 3\n",
    "for i in range(0,6):\n",
    "    a=i\n",
    "    a**=3\n",
    "    print(\"La potencia cúbica de \",str(i),\" es: \",str(a))\n",
    "\n"
   ]
  },
  {
   "cell_type": "code",
   "execution_count": 64,
   "metadata": {},
   "outputs": [
    {
     "name": "stdout",
     "output_type": "stream",
     "text": [
      "Ciclo 0\n",
      "Ciclo 1\n",
      "Ciclo 2\n",
      "Ciclo 3\n"
     ]
    }
   ],
   "source": [
    "#5) Crear una variable que contenga un número entero y realizar un ciclo \n",
    "# for la misma cantidad de ciclos\n",
    "\n",
    "n = 4\n",
    "\n",
    "for i in range (0,n):\n",
    "    print(\"Ciclo\",str(i))"
   ]
  },
  {
   "cell_type": "code",
   "execution_count": 65,
   "metadata": {},
   "outputs": [
    {
     "name": "stdout",
     "output_type": "stream",
     "text": [
      "El factorial de 5 es 120\n"
     ]
    }
   ],
   "source": [
    "# 6) Utilizar un ciclo while para realizar el factorial de un número guardado en una variable,\n",
    "# sólo si la variable contiene un número entero mayor a 0\n",
    "\n",
    "n = 5\n",
    "factorial = 1\n",
    "if (type(n) == int):\n",
    "    if (n>0):\n",
    "        i = n\n",
    "        factorial = n\n",
    "        while (n > 2):\n",
    "            n -= 1 \n",
    "            factorial = factorial * n  \n",
    "        print(\"El factorial de\", str(i) ,\"es\",factorial)\n",
    "    else:\n",
    "        print(\"La variable no es mayor a cero\")\n",
    "else:\n",
    "    print(\"La variable no es un entero\")\n"
   ]
  },
  {
   "cell_type": "code",
   "execution_count": 66,
   "metadata": {},
   "outputs": [
    {
     "name": "stdout",
     "output_type": "stream",
     "text": [
      "Ciclo while nro del número 2, numero 1\n",
      "Ciclo while nro del número 3, numero 1\n",
      "Ciclo while nro del número 3, numero 2\n",
      "Ciclo while nro del número 4, numero 1\n",
      "Ciclo while nro del número 4, numero 2\n",
      "Ciclo while nro del número 4, numero 3\n",
      "Ciclo while nro del número 5, numero 1\n",
      "Ciclo while nro del número 5, numero 2\n",
      "Ciclo while nro del número 5, numero 3\n",
      "Ciclo while nro del número 5, numero 4\n"
     ]
    }
   ],
   "source": [
    "# 7) Crear un ciclo for dentro de un ciclo while\n",
    "n = 1\n",
    "while(n < 5):\n",
    "    n += 1\n",
    "    for i in range(1,n):\n",
    "        print('Ciclo while nro del número ' + str(n) + \", numero \" + str(i))\n",
    "\n",
    "\n",
    "\n"
   ]
  },
  {
   "cell_type": "code",
   "execution_count": 67,
   "metadata": {},
   "outputs": [
    {
     "name": "stdout",
     "output_type": "stream",
     "text": [
      "Ciclo while nro 3 dentro del for número 1\n",
      "Ciclo while nro 2 dentro del for número 1\n",
      "Ciclo while nro 1 dentro del for número 1\n",
      "Ciclo while nro 0 dentro del for número 1\n"
     ]
    }
   ],
   "source": [
    "# 8) Crear un ciclo while dentro de un ciclo for\n",
    "\n",
    "n = 4\n",
    "for i in range(1, n):\n",
    "    while(n < 5) and (n>0):\n",
    "        n -= 1\n",
    "        print('Ciclo while nro ' + str(n), \"dentro del for número \" + str(i))\n",
    "    "
   ]
  },
  {
   "cell_type": "code",
   "execution_count": 72,
   "metadata": {},
   "outputs": [
    {
     "ename": "KeyboardInterrupt",
     "evalue": "",
     "output_type": "error",
     "traceback": [
      "\u001b[1;31m---------------------------------------------------------------------------\u001b[0m",
      "\u001b[1;31mKeyboardInterrupt\u001b[0m                         Traceback (most recent call last)",
      "\u001b[1;32m<ipython-input-72-da78846e618b>\u001b[0m in \u001b[0;36m<module>\u001b[1;34m\u001b[0m\n\u001b[0;32m      4\u001b[0m \u001b[0mnumero_primo\u001b[0m \u001b[1;33m=\u001b[0m \u001b[1;32mTrue\u001b[0m\u001b[1;33m\u001b[0m\u001b[1;33m\u001b[0m\u001b[0m\n\u001b[0;32m      5\u001b[0m \u001b[1;32mwhile\u001b[0m \u001b[1;33m(\u001b[0m\u001b[0mnro\u001b[0m \u001b[1;33m<\u001b[0m \u001b[0mrango_maximo\u001b[0m\u001b[1;33m)\u001b[0m\u001b[1;33m:\u001b[0m\u001b[1;33m\u001b[0m\u001b[1;33m\u001b[0m\u001b[0m\n\u001b[1;32m----> 6\u001b[1;33m     \u001b[1;32mfor\u001b[0m \u001b[0mdivisor\u001b[0m \u001b[1;32min\u001b[0m \u001b[0mrange\u001b[0m \u001b[1;33m(\u001b[0m\u001b[1;36m2\u001b[0m\u001b[1;33m,\u001b[0m\u001b[0mnro\u001b[0m\u001b[1;33m)\u001b[0m\u001b[1;33m:\u001b[0m\u001b[1;33m\u001b[0m\u001b[1;33m\u001b[0m\u001b[0m\n\u001b[0m\u001b[0;32m      7\u001b[0m         \u001b[1;32mif\u001b[0m \u001b[1;33m(\u001b[0m\u001b[0mnro\u001b[0m \u001b[1;33m%\u001b[0m \u001b[0mdivisor\u001b[0m \u001b[1;33m==\u001b[0m \u001b[1;36m0\u001b[0m\u001b[1;33m)\u001b[0m\u001b[1;33m:\u001b[0m\u001b[1;33m\u001b[0m\u001b[1;33m\u001b[0m\u001b[0m\n\u001b[0;32m      8\u001b[0m             \u001b[0mnumero_primo\u001b[0m \u001b[1;33m=\u001b[0m \u001b[1;32mFalse\u001b[0m\u001b[1;33m\u001b[0m\u001b[1;33m\u001b[0m\u001b[0m\n",
      "\u001b[1;31mKeyboardInterrupt\u001b[0m: "
     ]
    }
   ],
   "source": [
    "#9) Imprimir los números primos existentes entre 0 y 30\n",
    "nro=0\n",
    "rango_maximo=31\n",
    "numero_primo = True\n",
    "while (nro < rango_maximo):\n",
    "    for divisor in range (2,nro):\n",
    "        if (nro % divisor == 0):\n",
    "            numero_primo = False\n",
    "            #print('El número ',str(nro),' no es primo. Es divisible por', str(divisor))\n",
    "            break    \n",
    "        if numero_primo:    \n",
    "            print('El número ',str(nro),'es primo.')\n",
    "        else:\n",
    "            "
   ]
  },
  {
   "cell_type": "markdown",
   "metadata": {},
   "source": [
    "## Flujos de Control\n",
    "\n",
    "\n",
    "\n",
    "2\n",
    "\n",
    "\n",
    "\n",
    "4) for\n",
    "\n",
    "\n",
    "6) Utilizar un ciclo while para realizar el factorial de un número guardado en una variable, sólo si la variable contiene un número entero mayor a 0\n",
    "\n",
    "7) Crear un ciclo for dentro de un ciclo while\n",
    "\n",
    "\n",
    "\n",
    "9) Imprimir los números primos existentes entre 0 y 30\n",
    "\n",
    "10) ¿Se puede mejorar el proceso del punto 9? Utilizar las sentencias break y/ó continue para tal fin\n",
    "\n",
    "11) En los puntos 9 y 10, se diseño un código que encuentra números primos y además se lo optimizó. ¿Es posible saber en qué medida se optimizó?\n",
    "\n",
    "12) Si la cantidad de números que se evalúa es mayor a treinta, esa optimización crece?\n",
    "\n",
    "13) Aplicando continue, armar un ciclo while que solo imprima los valores divisibles por 12, dentro del rango de números de 100 a 300\n",
    "\n",
    "14) Utilizar la función **input()** que permite hacer ingresos por teclado, para encontrar números primos y dar la opción al usario de buscar el siguiente\n",
    "\n",
    "15) Crear un ciclo while que encuentre dentro del rango de 100 a 300 el primer número divisible por 3 y además múltiplo de 6\n",
    "\n"
   ]
  },
  {
   "cell_type": "code",
   "execution_count": null,
   "metadata": {},
   "outputs": [],
   "source": []
  },
  {
   "cell_type": "code",
   "execution_count": null,
   "metadata": {},
   "outputs": [],
   "source": []
  }
 ],
 "metadata": {
  "interpreter": {
   "hash": "4138dce0fa74a6453ad2e7bd72e4222e8a2660a917e8bc73b32b3d62a6a94433"
  },
  "kernelspec": {
   "display_name": "Python 3.8.8 ('base')",
   "language": "python",
   "name": "python3"
  },
  "language_info": {
   "codemirror_mode": {
    "name": "ipython",
    "version": 3
   },
   "file_extension": ".py",
   "mimetype": "text/x-python",
   "name": "python",
   "nbconvert_exporter": "python",
   "pygments_lexer": "ipython3",
   "version": "3.8.8"
  },
  "orig_nbformat": 4
 },
 "nbformat": 4,
 "nbformat_minor": 2
}
