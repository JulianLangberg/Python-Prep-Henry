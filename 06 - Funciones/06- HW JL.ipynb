{
 "cells": [
  {
   "cell_type": "code",
   "execution_count": 25,
   "metadata": {},
   "outputs": [
    {
     "name": "stdout",
     "output_type": "stream",
     "text": [
      "True\n"
     ]
    }
   ],
   "source": [
    "#1) Crear una función que reciba un número como parámetro \n",
    "# y devuelva si True si es primo y False si no lo es\n",
    "\n",
    "num = 5\n",
    "\n",
    "def primo_ch (num):\n",
    "    primo = True\n",
    "    divisores = list(range(2,num))\n",
    "    for i in divisores:\n",
    "        if (num % i == 0):\n",
    "            primo = False            \n",
    "            break\n",
    "        else:\n",
    "            primo = True\n",
    "    return primo\n",
    "print(primo_ch(num))"
   ]
  },
  {
   "cell_type": "code",
   "execution_count": 27,
   "metadata": {},
   "outputs": [],
   "source": [
    "# 2) Utilizando la función del punto 1, realizar otra función que \n",
    "# reciba de parámetro una lista de números y devuelva sólo aquellos que son primos en otra lista\n",
    "\n",
    "def ret_primos(numeros_chequear):\n",
    "    numeros_primos = []\n",
    "    for elementos in numeros_chequear:\n",
    "        if primo_ch(int(elementos)):\n",
    "            numeros_primos.append(elementos)   \n",
    "    return numeros_primos"
   ]
  },
  {
   "cell_type": "code",
   "execution_count": 33,
   "metadata": {},
   "outputs": [
    {
     "name": "stdout",
     "output_type": "stream",
     "text": [
      "[1, 2, 3, 5, 7]\n"
     ]
    }
   ],
   "source": [
    "numeros_chequear = list(range(1,10))\n",
    "#print(numeros_chequear)\n",
    "primos = ret_primos(numeros_chequear)\n",
    "print(primos)\n"
   ]
  },
  {
   "cell_type": "code",
   "execution_count": 44,
   "metadata": {},
   "outputs": [],
   "source": [
    "#3) Crear una función que al recibir una lista de números, devuelva el que más se repite y cuántas veces lo hace. \n",
    "# Si hay más de un \"más repetido\", que devuelva cualquiera\n",
    "\n",
    "def repetido_max (listanum):\n",
    "    y = {}\n",
    "    for a in listanum:\n",
    "        if not a in y:\n",
    "            y[a]=1\n",
    "        else:\n",
    "            y[a] += 1\n",
    "    return [g for g,l in y.items() if l==max(y.values())]"
   ]
  },
  {
   "cell_type": "code",
   "execution_count": 48,
   "metadata": {},
   "outputs": [
    {
     "data": {
      "text/plain": [
       "[5, 9]"
      ]
     },
     "execution_count": 48,
     "metadata": {},
     "output_type": "execute_result"
    }
   ],
   "source": [
    "listanum = [5,5,5,3,1,5,6,8,9,9,9,9,9,5]\n",
    "repetido_max(listanum)"
   ]
  },
  {
   "cell_type": "code",
   "execution_count": 58,
   "metadata": {},
   "outputs": [],
   "source": [
    "#3) Crear una función que al recibir una lista de números, devuelva el que más se repite y cuántas veces lo hace. \n",
    "# Si hay más de un \"más repetido\", que devuelva cualquiera\n",
    "\n",
    "lista = []\n",
    "\n",
    "def repetido_max(lista):\n",
    "    rep_maximas = 0\n",
    "    numrepetido = []\n",
    "    for elemento in lista:\n",
    "        repeticiones = lista.count(elemento)\n",
    "        if repeticiones > rep_maximas:\n",
    "            rep_maximas = repeticiones\n",
    "            numrepetido = elemento \n",
    "    return numrepetido, rep_maximas\n"
   ]
  },
  {
   "cell_type": "code",
   "execution_count": 62,
   "metadata": {},
   "outputs": [
    {
     "name": "stdout",
     "output_type": "stream",
     "text": [
      "El numero mas repetido es 2 , que fue repetido 4 veces.\n"
     ]
    }
   ],
   "source": [
    "lista = [2,2,2,5,5,6,6,7,8,8,8,8,9,4,3,21,1,1,2,34,4,5]\n",
    "numrepetido, rep_maximas = repetido_max(lista)\n",
    "print('El numero mas repetido es', str(numrepetido), ', que fue repetido', str(rep_maximas), 'veces.')"
   ]
  },
  {
   "cell_type": "code",
   "execution_count": null,
   "metadata": {},
   "outputs": [],
   "source": [
    "# 4) A la función del punto 3, agregar un parámetro más, que permita elegir si se requiere el menor o el mayor de los mas repetidos."
   ]
  }
 ],
 "metadata": {
  "interpreter": {
   "hash": "4138dce0fa74a6453ad2e7bd72e4222e8a2660a917e8bc73b32b3d62a6a94433"
  },
  "kernelspec": {
   "display_name": "Python 3.8.8 ('base')",
   "language": "python",
   "name": "python3"
  },
  "language_info": {
   "codemirror_mode": {
    "name": "ipython",
    "version": 3
   },
   "file_extension": ".py",
   "mimetype": "text/x-python",
   "name": "python",
   "nbconvert_exporter": "python",
   "pygments_lexer": "ipython3",
   "version": "3.8.8"
  },
  "orig_nbformat": 4
 },
 "nbformat": 4,
 "nbformat_minor": 2
}
