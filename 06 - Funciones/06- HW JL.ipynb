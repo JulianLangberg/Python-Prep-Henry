{
 "cells": [
  {
   "cell_type": "code",
   "execution_count": 9,
   "metadata": {},
   "outputs": [
    {
     "name": "stdout",
     "output_type": "stream",
     "text": [
      "[2, 3, 4, 5, 6, 7, 8, 9]\n",
      "False\n"
     ]
    }
   ],
   "source": [
    "#1) Crear una función que reciba un número como parámetro \n",
    "# y devuelva si True si es primo y False si no lo es\n",
    "\n",
    "\n",
    "\n",
    "def primo_ch (num):\n",
    "    primo = True\n",
    "    divisores = list(range(2,num))\n",
    "    print(divisores)\n",
    "    for i in divisores:\n",
    "        if (num % i == 0):\n",
    "            primo = False\n",
    "            \n",
    "            break\n",
    "        else:\n",
    "            primo = True\n",
    "    return primo\n",
    "print(primo_ch(10))"
   ]
  },
  {
   "cell_type": "code",
   "execution_count": null,
   "metadata": {},
   "outputs": [],
   "source": [
    "# 2) Utilizando la función del punto 1, realizar otra función que \n",
    "# reciba de parámetro una lista de números y devuelva sólo aquellos que son primos en otra lista\n",
    "numeros = []\n",
    "def primo_ch_list (numeros):\n",
    "    primos = []\n",
    "    divisores = list(range(2,num))\n",
    "    print(divisores)\n",
    "    for i in divisores:\n",
    "        if (num % i == 0):\n",
    "            primo = False\n",
    "            \n",
    "            break\n",
    "        else:\n",
    "            primo = True\n",
    "    return primo"
   ]
  },
  {
   "cell_type": "code",
   "execution_count": null,
   "metadata": {},
   "outputs": [],
   "source": []
  }
 ],
 "metadata": {
  "interpreter": {
   "hash": "4138dce0fa74a6453ad2e7bd72e4222e8a2660a917e8bc73b32b3d62a6a94433"
  },
  "kernelspec": {
   "display_name": "Python 3.8.8 ('base')",
   "language": "python",
   "name": "python3"
  },
  "language_info": {
   "codemirror_mode": {
    "name": "ipython",
    "version": 3
   },
   "file_extension": ".py",
   "mimetype": "text/x-python",
   "name": "python",
   "nbconvert_exporter": "python",
   "pygments_lexer": "ipython3",
   "version": "3.8.8"
  },
  "orig_nbformat": 4
 },
 "nbformat": 4,
 "nbformat_minor": 2
}
