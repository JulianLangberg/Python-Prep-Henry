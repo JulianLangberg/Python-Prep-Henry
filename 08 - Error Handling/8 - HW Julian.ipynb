{
 "cells": [
  {
   "cell_type": "code",
   "execution_count": 15,
   "metadata": {},
   "outputs": [],
   "source": [
    "# 1) Con la clase creada en el módulo 7, tener en cuenta diferentes casos en que el código \n",
    "# pudiera arrojar error. Por ejemplo, en la creación del objeto recibimos una \n",
    "# lista de números enteros pero ¿qué pasa si se envía otro tipo de dato\n",
    "\n",
    "import sys\n",
    "sys.path.append(r'C:/Users/Julian/Documents/GitHub/Curso ML/Python-Prep-Henry/07 - Classes & OOP/herramientas.py')\n"
   ]
  },
  {
   "cell_type": "code",
   "execution_count": 17,
   "metadata": {},
   "outputs": [],
   "source": [
    "def NumeroCapicua(numero):\n",
    "    '''\n",
    "    En matemáticas, la palabra capicúa (del catalán cap i cua, 'cabeza y cola')​ \n",
    "    se refiere a cualquier número que se lee igual de izquierda a derecha que \n",
    "    de derecha a izquierda. Se denominan también números palíndromos.\n",
    "    Esta función devuelve el valor booleano True si el número es capicúa, de lo contrario\n",
    "    devuelve el valor booleano False \n",
    "    En caso de que el parámetro no sea de tipo entero, debe retornar nulo.\n",
    "    Recibe un argumento:\n",
    "        numero: Será el número sobre el que se evaluará si es capicúa o no lo es.\n",
    "    Ej:\n",
    "        NumeroCapicua(787) debe retornar True\n",
    "        NumeroCapicua(108) debe retornar False\n",
    "    '''\n",
    "    capicua = False\n",
    "    numero = str(numero)\n",
    "    numcap = numero\n",
    "    if numcap == numcap[::-1]:\n",
    "        capicua = True\n",
    "    return capicua\n",
    "\n"
   ]
  },
  {
   "cell_type": "code",
   "execution_count": 19,
   "metadata": {},
   "outputs": [
    {
     "data": {
      "text/plain": [
       "False"
      ]
     },
     "execution_count": 19,
     "metadata": {},
     "output_type": "execute_result"
    }
   ],
   "source": [
    "NumeroCapicua(100)"
   ]
  },
  {
   "cell_type": "code",
   "execution_count": 37,
   "metadata": {},
   "outputs": [],
   "source": [
    "def factorial(numero):\n",
    "    '''\n",
    "    Esta función devuelve el factorial del número pasado como parámetro.\n",
    "    En caso de que no sea de tipo entero y/o sea menor que 1, debe retornar nulo.\n",
    "    Recibe un argumento:\n",
    "        numero: Será el número con el que se calcule el factorial\n",
    "    Ej:\n",
    "        Factorial(4) debe retornar 24\n",
    "        Factorial(-2) debe retornar nulo\n",
    "    '''\n",
    "    if(type(numero) != int):\n",
    "        return None\n",
    "    if(numero < 0):\n",
    "        return None\n",
    "    if (numero > 1):\n",
    "        numero = numero * factorial(numero - 1)\n",
    "    return numero"
   ]
  },
  {
   "cell_type": "code",
   "execution_count": 38,
   "metadata": {},
   "outputs": [],
   "source": [
    "factorial(2.4)"
   ]
  },
  {
   "cell_type": "code",
   "execution_count": 139,
   "metadata": {},
   "outputs": [],
   "source": [
    "def ProximoPrimo(actual_primo):\n",
    "    '''\n",
    "    Esta función devuelve el número primo siguiente al enviado como parámetro.\n",
    "    En caso de que el parámetro no sea de tipo entero y/o no sea un número primo, debe retornar nulo.\n",
    "    Recibe un argumento:\n",
    "        actual_primo: Será el número primo a partir del cual debo buscar el siguiente\n",
    "    Ej:\n",
    "        ProximoPrimo(7) debe retornar 11\n",
    "        ProximoPrimo(8) debe retornar nulo\n",
    "    '''\n",
    "    if (actual_primo > 1):\n",
    "        if (type(actual_primo) == int):\n",
    "            prox_primo = actual_primo + 1\n",
    "            numero_primo_sig = actual_primo + 1\n",
    "            for i in range(2,actual_primo):\n",
    "                if (actual_primo % i == 0):\n",
    "                    return None\n",
    "                else:\n",
    "                    for j in range(2,prox_primo):\n",
    "                        if (prox_primo % j == 0):\n",
    "                            prox_primo += 1\n",
    "                        else:\n",
    "                            numero_primo_sig = prox_primo\n",
    "        else:\n",
    "            return None\n",
    "    else:\n",
    "            return None\n",
    "    return numero_primo_sig"
   ]
  },
  {
   "cell_type": "code",
   "execution_count": 132,
   "metadata": {},
   "outputs": [
    {
     "data": {
      "text/plain": [
       "int"
      ]
     },
     "execution_count": 132,
     "metadata": {},
     "output_type": "execute_result"
    }
   ],
   "source": [
    "type(0)"
   ]
  },
  {
   "cell_type": "code",
   "execution_count": 141,
   "metadata": {},
   "outputs": [
    {
     "data": {
      "text/plain": [
       "3"
      ]
     },
     "execution_count": 141,
     "metadata": {},
     "output_type": "execute_result"
    }
   ],
   "source": [
    "ProximoPrimo(2)"
   ]
  },
  {
   "cell_type": "code",
   "execution_count": 219,
   "metadata": {},
   "outputs": [],
   "source": [
    "def FactorizarNumero(numero):\n",
    "    '''\n",
    "    Esta función recibe como parámetro un número entero mayor a cero y devuelva dos listas, \n",
    "    una con cada factor común y otra con su exponente, \n",
    "    esas dos listas tienen que estar contenidas en otra lista.\n",
    "    En caso de que el parámetro no sea de tipo entero y/ó mayor a cero debe retornar nulo.\n",
    "    Recibe un argumento:\n",
    "        numero: Será el número sobre el que se hará la factorización.\n",
    "    Ej:\n",
    "\n",
    "        factorizar_numero(12) debe retornar [[2,3],[2,1]]\n",
    "        factorizar_numero(13) debe retornar [[13],[1]]\n",
    "        factorizar_numero(14) debe retornar [[2,7],[1,1]]\n",
    "    '''\n",
    "    if (type(numero) == int):\n",
    "        if (numero >0):\n",
    "            primos = []\n",
    "            factores = []\n",
    "            repeticiones = []\n",
    "            mcm = []\n",
    "            for i in range (2,numero+1):\n",
    "                while numero % i == 0:\n",
    "                    primos.append(i)\n",
    "                    numero = numero/i\n",
    "            for elemento in primos:\n",
    "                if elemento in factores:\n",
    "                    j = factores.index(elemento)\n",
    "                    repeticiones[j] += 1\n",
    "                else:\n",
    "                    factores.append(elemento)\n",
    "                    repeticiones.append(1)\n",
    "            mcm.append(factores)\n",
    "            mcm.append(repeticiones)\n",
    "            return mcm\n",
    "        else:\n",
    "            None\n",
    "    else:\n",
    "        None        "
   ]
  },
  {
   "cell_type": "code",
   "execution_count": 225,
   "metadata": {},
   "outputs": [],
   "source": [
    "FactorizarNumero(0.5)"
   ]
  },
  {
   "cell_type": "code",
   "execution_count": 323,
   "metadata": {},
   "outputs": [],
   "source": [
    "def ListaDeListas(lista):\n",
    "    '''\n",
    "    Esta función recibe una lista, que puede contener elementos que a su vez sean listas y\n",
    "    devuelve esos elementos por separado en una lista única. \n",
    "    En caso de que el parámetro no sea de tipo lista, debe retornar nulo.\n",
    "    Recibe un argumento:\n",
    "        lista: La lista que puede contener otras listas y se convierte a una \n",
    "        lista de elementos únicos o no iterables.\n",
    "    Ej:\n",
    "        ListaDeListas([1,2,['a','b'],[10]]) debe retornar [1,2,'a','b',10]\n",
    "        ListaDeListas(108) debe retornar el valor nulo.\n",
    "        ListaDeListas([[1,2,[3]],[4]]) debe retornar [1,2,3,4]\n",
    "    '''\n",
    "    \n",
    "    nueva_lista = []\n",
    "    if (type(lista) == list):\n",
    "        for elemento in lista:\n",
    "            if type(elemento) is list:\n",
    "                for i in elemento:\n",
    "                    if type(i) is list:\n",
    "                        for j in i:\n",
    "                            nueva_lista.append(j)\n",
    "                    else:\n",
    "                        nueva_lista.append(i)    \n",
    "            else:\n",
    "                nueva_lista.append(elemento)\n",
    "    else:\n",
    "        return None\n",
    "    return nueva_lista"
   ]
  },
  {
   "cell_type": "code",
   "execution_count": 326,
   "metadata": {},
   "outputs": [],
   "source": [
    "prueba = (100,101)\n",
    "ListaDeListas(prueba)"
   ]
  },
  {
   "cell_type": "code",
   "execution_count": null,
   "metadata": {},
   "outputs": [
    {
     "data": {
      "text/plain": [
       "3"
      ]
     },
     "metadata": {},
     "output_type": "display_data"
    }
   ],
   "source": [
    "ProximoPrimo(2)"
   ]
  },
  {
   "cell_type": "code",
   "execution_count": 476,
   "metadata": {},
   "outputs": [],
   "source": [
    "#\n",
    "#def ClaseVehiculo(tipo, color):\n",
    "'''\n",
    "    Esta función devuelve un objeto instanciado de la clase Vehiculo, \n",
    "    la cual debe tener los siguientes atributos:\n",
    "        Tipo:       Un valor dentro de los valores posibles: ['auto','camioneta','moto']\n",
    "        Color:      Un valor de tipo de dato string.\n",
    "        Velocidad:  Un valor de tipo de dato float, que debe inicializarse en cero.\n",
    "    y debe tener el siguiente método:\n",
    "        Acelerar(): Este método recibe un parámetro con el valor que debe incrementar a la\n",
    "                    propiedad Velocidad y luego retornarla.\n",
    "                    Si la propiedad Velocidad cobra un valor menor a cero, debe quedar en cero.\n",
    "                    Si la propiedad Velocidad cobra un valor mayor a cien, debe quedar en cien.\n",
    "    Recibe dos argumento:\n",
    "        tipo: Dato que se asignará al atributo Tipo del objeto de la clase Vehiculo\n",
    "        color: Dato que se asignará al atributo Color del objeto de la clase Vehiculo\n",
    "    Ej:\n",
    "        a = ClaseVehículo('auto','gris')\n",
    "        a.Acelerar(10) -> debe devolver 10\n",
    "        a.Acelerar(15) -> debe devolver 25\n",
    "        a.Acelerar(-10) -> debe devolver 15\n",
    "'''\n",
    "class ClaseVehiculo:\n",
    "    def __init__(self,tipo,color):\n",
    "        self.tipo = tipo\n",
    "        self.color = color\n",
    "        self.velocidad = 0\n",
    "\n",
    "    def Acelerar(self, vel):   \n",
    "        self.velocidad += vel\n",
    "        if self.velocidad < 0:\n",
    "            self.velocidad = 0\n",
    "        if self.velocidad > 100:\n",
    "            self.velocidad = 100\n",
    "        return self.velocidad     \n",
    "            "
   ]
  },
  {
   "cell_type": "code",
   "execution_count": 477,
   "metadata": {},
   "outputs": [
    {
     "data": {
      "text/plain": [
       "10"
      ]
     },
     "execution_count": 477,
     "metadata": {},
     "output_type": "execute_result"
    }
   ],
   "source": [
    "a = ClaseVehiculo('auto','gris')\n",
    "a.Acelerar(10)"
   ]
  },
  {
   "cell_type": "code",
   "execution_count": null,
   "metadata": {},
   "outputs": [],
   "source": [
    "def OrdenarDiccionario(diccionario_par, clave, descendente=True):\n",
    "    '''\n",
    "    Esta función recibe como parámetro un diccionario, cuyas listas de valores tienen el mismo\n",
    "    tamaño y sus elementos enésimos están asociados. Y otros dos parámetros que indican\n",
    "    la clave por la cual debe ordenarse y si es descendente o ascendente.\n",
    "    La función debe devolver el diccionario ordenado, teniendo en cuenta de no perder la\n",
    "    relación entre los elementos enésimos.\n",
    "    Recibe tres argumentos:\n",
    "        diccionario:    Diccionario a ordenar.\n",
    "        clave:          Clave del diccionario recibido, por la cual ordenar.\n",
    "        descendente:    Un valor booleano, que al ser verdadero indica ordenamiento ascendente y \n",
    "                        descendente si es falso. \n",
    "                        Debe tratarse de un parámetro por defecto en True.\n",
    "    Si el parámetro diccionario no es un tipo de dato diccionario ó el parámetro clave no \n",
    "    se encuentra dentro de las claves del diccionario, debe devolver nulo.\n",
    "    Ej:\n",
    "        dicc = {'clave1':['c','a','b'],\n",
    "                'clave2':['casa','auto','barco'],\n",
    "                'clave3':[1,2,3]}\n",
    "        OrdenarDiccionario(dicc, 'clave1')          debe retornar {'clave1':['a','b','c'],\n",
    "                                                                'clave2':['auto','barco','casa'],\n",
    "                                                                'clave3':[2,3,1]}\n",
    "        OrdenarDiccionario(dicc, 'clave3', False)   debe retornar {'clave1':['b','a','c'],\n",
    "                                                                'clave2':['barco','auto','casa'],\n",
    "                                                                'clave3':[3,2,1]}\n",
    "    '''\n",
    "    \n",
    "    \n",
    "    list1=[c,'casa',1]\n",
    "    list2=['a','auto',2]\n",
    "    list3=['b','barco',3]\n",
    "\n",
    "    if sorted.dicc['clave2']\n",
    "        \n",
    "\n",
    "    return 'Funcion incompleta'  "
   ]
  },
  {
   "cell_type": "code",
   "execution_count": 331,
   "metadata": {},
   "outputs": [],
   "source": [
    "from operator import itemgetter"
   ]
  },
  {
   "cell_type": "code",
   "execution_count": 460,
   "metadata": {},
   "outputs": [
    {
     "name": "stdout",
     "output_type": "stream",
     "text": [
      "[1, 2, 0]\n",
      "['a', 'b', 'c']\n",
      "['auto', 'barco', 'casa']\n",
      "[2, 3, 1]\n"
     ]
    }
   ],
   "source": [
    "dicc = {\n",
    "    'clave1':['c','a','b'],\n",
    "    'clave2':['casa','auto','barco'],\n",
    "    'clave3':[1,2,3]\n",
    "}\n",
    "\n",
    "\n",
    "aordenar1 = dicc['clave1'] \n",
    "aordenar2 = dicc['clave2']\n",
    "\n",
    "aordenar3 = dicc['clave3']\n",
    "aordenar1OK = [] \n",
    "aordenar2OK = [] \n",
    "aordenar3OK = []             \n",
    "dicc_ord = sorted(aordenar1)\n",
    "lista_indices_ordenados = []\n",
    "index_nuevo = []\n",
    "for e in dicc_ord:\n",
    "    for j in aordenar1:\n",
    "        if e == j:\n",
    "            index_nuevo = aordenar1.index(j)\n",
    "            lista_indices_ordenados.append(index_nuevo) \n",
    "\n",
    "\n",
    "for index in lista_indices_ordenados:\n",
    "    index_nuevo1 = aordenar2[index]\n",
    "    aordenar2OK.append(index_nuevo1)\n",
    "    index_nuevo2 = aordenar3[index]\n",
    "    aordenar3OK.append(index_nuevo2)\n",
    "\n",
    "\n",
    "\n",
    "print(lista_indices_ordenados)\n",
    "print(dicc_ord)\n",
    "print(aordenar2OK)\n",
    "print(aordenar3OK)\n",
    "\n"
   ]
  },
  {
   "cell_type": "code",
   "execution_count": 464,
   "metadata": {},
   "outputs": [
    {
     "name": "stdout",
     "output_type": "stream",
     "text": [
      "{}\n",
      "[1, 2, 0]\n",
      "['c', 'a', 'b']\n",
      "[]\n",
      "['auto', 'barco', 'casa']\n",
      "[2, 3, 1]\n"
     ]
    }
   ],
   "source": [
    "# parametros: nombre diccionario, key, asc o desc\n",
    "def OrdenarDiccionario(diccionario_par, clave, descendente=True):\n",
    "    diccionario_par = {\n",
    "    'clave1':['c','a','b'],\n",
    "    'clave2':['casa','auto','barco'],\n",
    "    'clave3':[1,2,3]\n",
    "}\n",
    "    dicc = diccionario_par\n",
    "\n",
    "    aordenar1 = dicc['clave1'] \n",
    "    aordenar2 = dicc['clave2']\n",
    "    aordenar3 = dicc['clave3']\n",
    "    dicc_ord = sorted(dicc[clave], desc=True)\n",
    "\n",
    "    aordenar1OK = [] \n",
    "    aordenar2OK = [] \n",
    "    aordenar3OK = []             \n",
    "    lista_indices_ordenados = []\n",
    "    index_nuevo = []\n",
    "    index_nuevo1 = []\n",
    "    for e in dicc_ord:\n",
    "        for j in dicc[clave]:\n",
    "            if e == j:\n",
    "                index_nuevo = aordenar1.index(j)\n",
    "                lista_indices_ordenados.append(index_nuevo) \n",
    "    \n",
    "    for index in lista_indices_ordenados:\n",
    "\n",
    "        index_nuevo1 = aordenar1[index]\n",
    "        aordenar1OK.append(index_nuevo1)\n",
    "        index_nuevo2 = aordenar2[index]\n",
    "        aordenar2OK.append(index_nuevo2)\n",
    "        index_nuevo3 = aordenar3[index]\n",
    "        aordenar3OK.append(index_nuevo3)\n",
    "\n",
    "dicc_final = dict(aordenar1OK)\n",
    "print(dicc_final)\n",
    "\n",
    "print(lista_indices_ordenados)\n",
    "print(aordenar1)\n",
    "print(aordenar1OK)\n",
    "print(aordenar2OK)\n",
    "print(aordenar3OK)\n"
   ]
  },
  {
   "cell_type": "code",
   "execution_count": 466,
   "metadata": {},
   "outputs": [
    {
     "name": "stdout",
     "output_type": "stream",
     "text": [
      "[1, 2, 0]\n",
      "['c', 'a', 'b']\n",
      "['a', 'b', 'c']\n",
      "['auto', 'barco', 'casa']\n",
      "[2, 3, 1]\n"
     ]
    }
   ],
   "source": [
    "def OrdenarDiccionario(diccionario_par, clave, descendente=True):\n",
    "    dicc = diccionario_par\n",
    "\n",
    "    aordenar1 = dicc['clave1']\n",
    "    aordenar2 = dicc['clave2']\n",
    "    aordenar3 = dicc['clave3']\n",
    "    dicc_ord = sorted(dicc[clave], desc=True)\n",
    "\n",
    "    aordenar1OK = [] \n",
    "    aordenar2OK = [] \n",
    "    aordenar3OK = []             \n",
    "    lista_indices_ordenados = []\n",
    "    index_nuevo = []\n",
    "    index_nuevo1 = []\n",
    "    for e in dicc_ord:\n",
    "        for j in dicc[clave]:\n",
    "            if e == j:\n",
    "                index_nuevo = aordenar1.index(j)\n",
    "                lista_indices_ordenados.append(index_nuevo)\n",
    "aordenar1OK = []\n",
    "aordenar2OK = []\n",
    "aordenar3OK = []\n",
    "\n",
    "for index in lista_indices_ordenados:\n",
    "\n",
    "    index_nuevo1 = aordenar1[index]\n",
    "    aordenar1OK.append(index_nuevo1)\n",
    "\n",
    "    index_nuevo2 = aordenar2[index]\n",
    "    aordenar2OK.append(index_nuevo2)\n",
    "\n",
    "    index_nuevo3 = aordenar3[index]\n",
    "    aordenar3OK.append(index_nuevo3)\n",
    "\n",
    "\n",
    "print(lista_indices_ordenados)\n",
    "print(aordenar1)\n",
    "print(aordenar1OK)\n",
    "print(aordenar2OK)\n",
    "print(aordenar3OK) \n",
    "\n",
    "    "
   ]
  },
  {
   "cell_type": "code",
   "execution_count": 455,
   "metadata": {},
   "outputs": [
    {
     "name": "stdout",
     "output_type": "stream",
     "text": [
      "[1, 2, 0]\n",
      "['c', 'a', 'b']\n",
      "['a', 'b', 'c']\n",
      "['auto', 'barco', 'casa']\n",
      "[2, 3, 1]\n"
     ]
    }
   ],
   "source": [
    "aordenar1OK = []\n",
    "aordenar2OK = []\n",
    "aordenar3OK = []\n",
    "\n",
    "for index in lista_indices_ordenados:\n",
    "\n",
    "    index_nuevo1 = aordenar1[index]\n",
    "    aordenar1OK.append(index_nuevo1)\n",
    "\n",
    "    index_nuevo2 = aordenar2[index]\n",
    "    aordenar2OK.append(index_nuevo2)\n",
    "\n",
    "    index_nuevo3 = aordenar3[index]\n",
    "    aordenar3OK.append(index_nuevo3)\n",
    "\n",
    "\n",
    "print(lista_indices_ordenados)\n",
    "print(aordenar1)\n",
    "print(aordenar1OK)\n",
    "print(aordenar2OK)\n",
    "print(aordenar3OK)"
   ]
  }
 ],
 "metadata": {
  "interpreter": {
   "hash": "4138dce0fa74a6453ad2e7bd72e4222e8a2660a917e8bc73b32b3d62a6a94433"
  },
  "kernelspec": {
   "display_name": "Python 3.8.8 ('base')",
   "language": "python",
   "name": "python3"
  },
  "language_info": {
   "codemirror_mode": {
    "name": "ipython",
    "version": 3
   },
   "file_extension": ".py",
   "mimetype": "text/x-python",
   "name": "python",
   "nbconvert_exporter": "python",
   "pygments_lexer": "ipython3",
   "version": "3.8.8"
  },
  "orig_nbformat": 4
 },
 "nbformat": 4,
 "nbformat_minor": 2
}
