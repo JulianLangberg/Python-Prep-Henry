{
 "cells": [
  {
   "cell_type": "code",
   "execution_count": 20,
   "metadata": {},
   "outputs": [
    {
     "name": "stdout",
     "output_type": "stream",
     "text": [
      "[-15, -14, -13, -12, -11, -10, -9, -8, -7, -6, -5, -4, -3, -2, -1]\n"
     ]
    }
   ],
   "source": [
    "#1) A partir de una lista vacía, \n",
    "# utilizar un ciclo while para cargar allí números negativos del -15 al -1\n",
    "\n",
    "lista_numeros1 = []\n",
    "num = -15\n",
    "while (num < 0):\n",
    "    lista_numeros1.append(num)\n",
    "    num += 1\n",
    "print(lista_numeros1)"
   ]
  },
  {
   "cell_type": "code",
   "execution_count": 32,
   "metadata": {},
   "outputs": [
    {
     "name": "stdout",
     "output_type": "stream",
     "text": [
      "15\n",
      "-14\n",
      "-12\n",
      "-10\n",
      "-8\n",
      "-6\n",
      "-4\n",
      "-2\n"
     ]
    }
   ],
   "source": [
    "# 2) ¿Con un ciclo while sería posible recorrer la lista para imprimir sólo los números pares?\n",
    "print(len(lista_numeros1))\n",
    "n = 0\n",
    "while (n < len(lista_numeros1)):\n",
    "    if (lista_numeros1[n] % 2 == 0):\n",
    "        print(lista_numeros1[n])\n",
    "    n +=1    \n"
   ]
  },
  {
   "cell_type": "code",
   "execution_count": 36,
   "metadata": {},
   "outputs": [
    {
     "name": "stdout",
     "output_type": "stream",
     "text": [
      "-14\n",
      "-12\n",
      "-10\n",
      "-8\n",
      "-6\n",
      "-4\n",
      "-2\n"
     ]
    }
   ],
   "source": [
    "# 3) Resolver el punto anterior sin utilizar un ciclo while\n",
    "\n",
    "for numero in lista_numeros1:\n",
    "    if (numero % 2 == 0 ):\n",
    "        print(numero)\n"
   ]
  },
  {
   "cell_type": "code",
   "execution_count": 38,
   "metadata": {},
   "outputs": [
    {
     "name": "stdout",
     "output_type": "stream",
     "text": [
      "-15\n",
      "-14\n",
      "-13\n"
     ]
    }
   ],
   "source": [
    "# 4) Utilizar el iterable para recorrer sólo los primeros 3 elementos\n",
    "\n",
    "for numero in lista_numeros1[:3]:\n",
    "    print(numero)"
   ]
  },
  {
   "cell_type": "code",
   "execution_count": 40,
   "metadata": {},
   "outputs": [
    {
     "name": "stdout",
     "output_type": "stream",
     "text": [
      "0 -15\n",
      "1 -14\n",
      "2 -13\n",
      "3 -12\n",
      "4 -11\n",
      "5 -10\n",
      "6 -9\n",
      "7 -8\n",
      "8 -7\n",
      "9 -6\n",
      "10 -5\n",
      "11 -4\n",
      "12 -3\n",
      "13 -2\n",
      "14 -1\n"
     ]
    }
   ],
   "source": [
    "# 5) Utilizar la función **enumerate** para obtener dentro del iterable, tambien el índice al que corresponde el elemento\n",
    "\n",
    "for i, numero in enumerate(lista_numeros1):\n",
    "    print(i,numero)"
   ]
  },
  {
   "cell_type": "code",
   "execution_count": 45,
   "metadata": {},
   "outputs": [
    {
     "name": "stdout",
     "output_type": "stream",
     "text": [
      "[1, 2, 3, 4, 5, 6, 7, 8, 9, 10, 11, 12, 13, 14, 15, 16, 17, 18, 19, 20]\n"
     ]
    }
   ],
   "source": [
    "# 6) Dada la siguiente lista de números enteros entre 1 y 20, \n",
    "# crear un ciclo donde se completen los valores faltantes: lista = [1,2,5,7,8,10,13,14,15,17,20]\n",
    "\n",
    "n=1\n",
    "lista = [1,2,5,7,8,10,13,14,15,17,20]\n",
    "while (n<21):\n",
    "    if n == lista[(n-1)]:\n",
    "        n += 1\n",
    "        continue \n",
    "    else:\n",
    "        lista.insert((n-1),n)       \n",
    "        n += 1\n",
    "print(lista)"
   ]
  },
  {
   "cell_type": "code",
   "execution_count": null,
   "metadata": {},
   "outputs": [],
   "source": [
    "lista1 = [1,2,5,7,8,10,13,14,15,17,20]\n",
    "n1 = 1\n",
    "while(n1 <= 20):\n",
    "    if (not(n1 in lista1)):\n",
    "        lista1.insert((n1-1), n1)\n",
    "    n1 += 1\n",
    "print(lista1)"
   ]
  },
  {
   "cell_type": "code",
   "execution_count": 56,
   "metadata": {},
   "outputs": [
    {
     "name": "stdout",
     "output_type": "stream",
     "text": [
      "[0, 1, 1, 2, 3, 5, 8, 13, 21, 34, 55, 89, 144, 233, 377, 610, 987, 1597, 2584, 4181, 6765, 10946, 17711, 28657, 46368, 75025, 121393, 196418, 317811, 514229]\n"
     ]
    }
   ],
   "source": [
    "# La sucesión de Fibonacci es un listado de números que sigue la fórmula:\n",
    "#   n0 = 0\n",
    "#   n1 = 1\n",
    "#   ni = ni-1 + ni-2\n",
    "#   Crear una lista con los primeros treinta números de la sucesión.\n",
    "\n",
    "listaFibonacci = [0,1]\n",
    "indice = 2\n",
    "while (indice < 30):\n",
    "    listaFibonacci.append(listaFibonacci[indice-1]+listaFibonacci[indice-2])\n",
    "    indice = indice + 1\n",
    "\n",
    "print(listaFibonacci)  "
   ]
  },
  {
   "cell_type": "code",
   "execution_count": 58,
   "metadata": {},
   "outputs": [
    {
     "name": "stdout",
     "output_type": "stream",
     "text": [
      "1346268\n"
     ]
    }
   ],
   "source": [
    "#8) Realizar la suma de todos elementos de la lista del punto anterior\n",
    "\n",
    "print(sum(listaFibonacci))"
   ]
  },
  {
   "cell_type": "code",
   "execution_count": 63,
   "metadata": {},
   "outputs": [
    {
     "name": "stdout",
     "output_type": "stream",
     "text": [
      "30\n",
      "1.6180339887543225\n",
      "1.6180339887802426\n",
      "1.618033988957902\n",
      "1.6180339901755971\n",
      "1.6180339985218033\n"
     ]
    }
   ],
   "source": [
    "#La proporción aurea se expresa con una proporción matemática que nace el número irracional Phi= 1,618… que los griegos llamaron número áureo. \n",
    "# El cuál se puede aproximar con la sucesión de Fibonacci. Con la lista del ejercicio anterior, \n",
    "# imprimir el cociente de los últimos 5 pares de dos números contiguos:\n",
    "#Donde i es la cantidad total de elementos\n",
    "# ni-1 / ni\n",
    "# ni-2 / ni-1\n",
    "# ni-3 / ni-2\n",
    "# ni-4 / ni-3\n",
    "# ni-5 / ni-4\n",
    "\n",
    "n = len(listaFibonacci)\n",
    "print(n)\n",
    "while (n > 20):\n",
    "    num_aureo = listaFibonacci[n-1]/listaFibonacci[n-2]\n",
    "    print(num_aureo)\n",
    "    n-=2"
   ]
  },
  {
   "cell_type": "code",
   "execution_count": 66,
   "metadata": {},
   "outputs": [
    {
     "name": "stdout",
     "output_type": "stream",
     "text": [
      "7\n",
      "21\n",
      "39\n",
      "60\n",
      "67\n"
     ]
    }
   ],
   "source": [
    "#A partir de la variable cadena ya dada, mostrar en qué posiciones aparece la letra \"n\"\n",
    "cadena = 'Hola Mundo. Esto es una practica del lenguaje de programación Python'\n",
    "for i,c in enumerate(cadena):\n",
    "    if (c == 'n'):\n",
    "        print(i)\n"
   ]
  },
  {
   "cell_type": "code",
   "execution_count": 76,
   "metadata": {},
   "outputs": [
    {
     "name": "stdout",
     "output_type": "stream",
     "text": [
      "['Clubes', 'Paises']\n",
      "Clubes\n",
      "Paises\n"
     ]
    }
   ],
   "source": [
    "# Crear un diccionario e imprimir sus claves utilizando un iterador\n",
    "diccionario = {\"Clubes\":[\"River\", 'Independiente','Barcelona','Real_Madrid'],\n",
    "                \"Paises\":[\"Argentina\",'España','Brasil']}\n",
    "print(list(diccionario.keys()))\n",
    "for i in diccionario:\n",
    "    print(i)\n",
    "    "
   ]
  },
  {
   "cell_type": "code",
   "execution_count": 78,
   "metadata": {},
   "outputs": [
    {
     "name": "stdout",
     "output_type": "stream",
     "text": [
      "H\n",
      "o\n",
      "l\n",
      "a\n",
      " \n",
      "M\n",
      "u\n",
      "n\n",
      "d\n",
      "o\n",
      ".\n",
      " \n",
      "E\n",
      "s\n",
      "t\n",
      "o\n",
      " \n",
      "e\n",
      "s\n",
      " \n",
      "u\n",
      "n\n",
      "a\n",
      " \n",
      "p\n",
      "r\n",
      "a\n",
      "c\n",
      "t\n",
      "i\n",
      "c\n",
      "a\n",
      " \n",
      "d\n",
      "e\n",
      "l\n",
      " \n",
      "l\n",
      "e\n",
      "n\n",
      "g\n",
      "u\n",
      "a\n",
      "j\n",
      "e\n",
      " \n",
      "d\n",
      "e\n",
      " \n",
      "p\n",
      "r\n",
      "o\n",
      "g\n",
      "r\n",
      "a\n",
      "m\n",
      "a\n",
      "c\n",
      "i\n",
      "ó\n",
      "n\n",
      " \n",
      "P\n",
      "y\n",
      "t\n",
      "h\n",
      "o\n",
      "n\n"
     ]
    }
   ],
   "source": [
    "#Convertir en una lista la variable \"cadena\" del punto 10 y luego recorrerla con un iterador\n",
    "cadena = 'Hola Mundo. Esto es una practica del lenguaje de programación Python'\n",
    "cadena = list(cadena)\n",
    "\n",
    "recorre = iter(cadena)\n",
    "largo = len(cadena)\n",
    "for i in range(0, largo):\n",
    "    print(next(recorre))"
   ]
  },
  {
   "cell_type": "code",
   "execution_count": 79,
   "metadata": {},
   "outputs": [
    {
     "name": "stdout",
     "output_type": "stream",
     "text": [
      "(('Julian', 1), ('Marcos', 2), ('Pepe', 3))\n"
     ]
    }
   ],
   "source": [
    "# Crear dos listas y unirlas en una tupla utilizando la función zip\n",
    "lista1 = [\"Julian\",\"Marcos\",\"Pepe\"]\n",
    "lista2 = [1,2,3]\n",
    "\n",
    "print(tuple(zip(lista1,lista2)))"
   ]
  },
  {
   "cell_type": "code",
   "execution_count": 82,
   "metadata": {},
   "outputs": [
    {
     "name": "stdout",
     "output_type": "stream",
     "text": [
      "[21, 35, 42, 56, 63, 84, 91]\n"
     ]
    }
   ],
   "source": [
    "# 14 A partir de la siguiente lista de números, crear una nueva sólo si el número es divisible por 7\n",
    "lis = [18,21,29,32,35,42,56,60,63,71,84,90,91,100]\n",
    "list7=[]\n",
    "\n",
    "for i in lis:\n",
    "    if (i % 7 == 0):\n",
    "        list7.append(i)\n",
    "\n",
    "print(list7)\n"
   ]
  },
  {
   "cell_type": "code",
   "execution_count": 96,
   "metadata": {},
   "outputs": [
    {
     "name": "stdout",
     "output_type": "stream",
     "text": [
      "<class 'list'>\n",
      "la cantida de elementos de lis es 12\n"
     ]
    }
   ],
   "source": [
    "# 15) A partir de la lista de a continuación, contar la cantidad total de elementos que contiene, \n",
    "# teniendo en cuenta que un elemento de la lista podría ser otra lista:<br>\n",
    "lis = [[1,2,3,4],'rojo','verde',[True,False,False],['uno','dos','tres']]\n",
    "print(type(lis))\n",
    "n = 0\n",
    "for i in lis:\n",
    "    if (type(i) == list):\n",
    "        n += len(i)\n",
    "    else:\n",
    "        n += 1\n",
    "print(\"la cantida de elementos de lis es\", str(n))\n"
   ]
  },
  {
   "cell_type": "code",
   "execution_count": 102,
   "metadata": {},
   "outputs": [
    {
     "name": "stdout",
     "output_type": "stream",
     "text": [
      "[[1, 2, 3, 4], ['rojo'], ['verde'], [True, False, False], ['uno', 'dos', 'tres']]\n"
     ]
    }
   ],
   "source": [
    "# 15 Tomar la lista del punto anterior y convertir cada elemento en una lista si no lo es\n",
    "\n",
    "for indice, elemento in enumerate(lis):\n",
    "    if (type(elemento) != list):\n",
    "        lis[indice]=[elemento]\n",
    "print(lis)\n"
   ]
  }
 ],
 "metadata": {
  "interpreter": {
   "hash": "4138dce0fa74a6453ad2e7bd72e4222e8a2660a917e8bc73b32b3d62a6a94433"
  },
  "kernelspec": {
   "display_name": "Python 3.8.8 ('base')",
   "language": "python",
   "name": "python3"
  },
  "language_info": {
   "codemirror_mode": {
    "name": "ipython",
    "version": 3
   },
   "file_extension": ".py",
   "mimetype": "text/x-python",
   "name": "python",
   "nbconvert_exporter": "python",
   "pygments_lexer": "ipython3",
   "version": "3.8.8"
  },
  "orig_nbformat": 4
 },
 "nbformat": 4,
 "nbformat_minor": 2
}
