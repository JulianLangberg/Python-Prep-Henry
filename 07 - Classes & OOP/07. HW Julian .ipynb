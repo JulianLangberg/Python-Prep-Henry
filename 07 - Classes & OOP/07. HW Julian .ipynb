{
 "cells": [
  {
   "cell_type": "code",
   "execution_count": null,
   "metadata": {},
   "outputs": [],
   "source": [
    "#1)  Crear la clase vehículo que contenga los atributos:\n",
    "# <br>Color<br> Si es moto, auto, camioneta ó camión<br> Cilindrada del motor\n",
    "\n",
    "class vehiculo:\n",
    "    def __init__ (self, color, tipo, cilindrada):\n",
    "        self.color = color\n",
    "        self.tipo = tipo\n",
    "        self.cilindrada = cilindrada"
   ]
  },
  {
   "cell_type": "code",
   "execution_count": 2,
   "metadata": {},
   "outputs": [],
   "source": [
    "#2) A la clase Vehiculo creada en el punto 1, agregar los siguientes métodos: Acelerar, Frenar, Doblar\n",
    "\n",
    "class vehiculo:\n",
    "    def __init__ (self, color, tipo, cilindrada):\n",
    "        self.color = color\n",
    "        self.tipo = tipo\n",
    "        self.cilindrada = cilindrada\n",
    "        self.velocidad = 0\n",
    "        self.direccion = 0\n",
    "\n",
    "    def Acelerar(self,vel):\n",
    "        self.velocidad += vel\n",
    "    \n",
    "    def Frenar(self, vel):\n",
    "        self.velocidad -= vel\n",
    "    \n",
    "    def Doblar(self, grados):\n",
    "        self.direccion += grados\n",
    "\n"
   ]
  },
  {
   "cell_type": "code",
   "execution_count": 17,
   "metadata": {},
   "outputs": [
    {
     "name": "stdout",
     "output_type": "stream",
     "text": [
      "4\n",
      "rojo\n"
     ]
    }
   ],
   "source": [
    "# 3) 3) Instanciar 3 objetos de la clase vehículo y ejecutar sus métodos, probar luego el resultado\n",
    "\n",
    "auto1 = vehiculo('negro','auto',4)\n",
    "auto2 = vehiculo('rojo','camion',8)\n",
    "auto3 = vehiculo('gris','camioneta',8)\n",
    "\n",
    "print(auto1.cilindrada)\n",
    "print(auto2.color)"
   ]
  },
  {
   "cell_type": "code",
   "execution_count": 12,
   "metadata": {},
   "outputs": [],
   "source": [
    "#4) 4) Agregar a la clase Vehiculo, un método que muestre su estado, es decir, \n",
    "# a que velocidad se encuentra y su dirección. Y otro método que muestre color, tipo y cilindrada\n",
    "\n",
    "class vehiculo:\n",
    "    def __init__ (self, color, tipo, cilindrada):\n",
    "        self.color = color\n",
    "        self.tipo = tipo\n",
    "        self.cilindrada = cilindrada\n",
    "        self.velocidad = 0\n",
    "        self.direccion = 0\n",
    "\n",
    "    def Acelerar(self,vel):\n",
    "        self.velocidad += vel\n",
    "    \n",
    "    def Frenar(self, vel):\n",
    "        self.velocidad -= vel\n",
    "    \n",
    "    def Doblar(self, grados):\n",
    "        self.direccion += grados\n",
    "\n",
    "    def estado(self):\n",
    "        print('El vehiculo',self.tipo,' se encuentra viajando a',self.velocidad,'con direccion',self.direccion)\n",
    "\n",
    "    def caracteristicas(self):\n",
    "        print('El vehiculo es de tipo',self.tipo,'color',self.color,'y cilindrada',self.cilindrada)"
   ]
  },
  {
   "cell_type": "code",
   "execution_count": 18,
   "metadata": {},
   "outputs": [
    {
     "name": "stdout",
     "output_type": "stream",
     "text": [
      "El vehiculo es de tipo camion color rojo y cilindrada 8\n"
     ]
    }
   ],
   "source": [
    "#auto1 = vehiculo('negro','auto',4)\n",
    "auto2.caracteristicas()"
   ]
  },
  {
   "cell_type": "code",
   "execution_count": 50,
   "metadata": {},
   "outputs": [],
   "source": [
    "# Crear una clase que permita utilizar las funciones creadas en la práctica del módulo 6\n",
    "#  Verificar Primo\n",
    "#  Valor modal\n",
    "#  Conversión grados\n",
    "#  Factorial\n",
    "\n",
    "class calculos:\n",
    "    def __init__ (self) -> None:\n",
    "        pass \n",
    "    \n",
    "    def primo_ch (self,num):\n",
    "        primo = True\n",
    "        divisores = list(range(2,num))\n",
    "        for i in divisores:\n",
    "            if (num % i == 0):\n",
    "                primo = False            \n",
    "                break\n",
    "            else:\n",
    "                primo = True\n",
    "        return primo\n",
    "\n",
    "    def repetido_max(self,lista):\n",
    "        rep_maximas = 0\n",
    "        numrepetido = []\n",
    "        for elemento in lista:\n",
    "            repeticiones = lista.count(elemento)\n",
    "            if repeticiones > rep_maximas:\n",
    "                rep_maximas = repeticiones\n",
    "                numrepetido = elemento \n",
    "        return numrepetido, rep_maximas\n",
    "\n",
    "    def conversion_grados(self, valor, origen, destino):\n",
    "        valor_destino = None\n",
    "        if (origen == 'celsius'):\n",
    "            if (destino == 'celsius'):\n",
    "                valor_destino = valor\n",
    "            elif (destino == 'farenheit'):\n",
    "                valor_destino = (valor * 9 / 5) + 32\n",
    "            elif (destino == 'kelvin'):\n",
    "                valor_destino = valor + 273.15\n",
    "            else:\n",
    "                print('Parámetro de Destino incorrecto')\n",
    "        elif (origen == 'farenheit'):\n",
    "            if (destino == 'celsius'):\n",
    "                valor_destino = (valor - 32) * 5 / 9\n",
    "            elif (destino == 'farenheit'):\n",
    "                valor_destino = valor\n",
    "            elif (destino == 'kelvin'):\n",
    "                valor_destino = ((valor - 32) * 5 / 9) + 273.15\n",
    "            else:\n",
    "                print('Parámetro de Destino incorrecto')\n",
    "        elif (origen == 'kelvin'):\n",
    "            if (destino == 'celsius'):\n",
    "                valor_destino = valor - 273.15\n",
    "            elif (destino == 'farenheit'):\n",
    "                valor_destino = ((valor - 273.15) * 9 / 5) + 32\n",
    "            elif (destino == 'kelvin'):\n",
    "                valor_destino = valor\n",
    "            else:\n",
    "                print('Parámetro de Destino incorrecto')\n",
    "        else:\n",
    "            print('Parámetro de Origen incorrecto')\n",
    "        return valor_destino\n",
    "\n",
    "    def factorial(self, numero):\n",
    "        if(type(numero) != int):\n",
    "            return 'El numero debe ser un entero'\n",
    "        if(numero < 0):\n",
    "            return 'El numero debe ser pisitivo'\n",
    "        if (numero > 1):\n",
    "            numero = numero * self.factorial(numero - 1)\n",
    "        return numero\n",
    "\n"
   ]
  },
  {
   "cell_type": "code",
   "execution_count": 52,
   "metadata": {},
   "outputs": [
    {
     "data": {
      "text/plain": [
       "(5, 4)"
      ]
     },
     "execution_count": 52,
     "metadata": {},
     "output_type": "execute_result"
    }
   ],
   "source": [
    "# 6) Probar las funciones incorporadas en la clase del punto 5\n",
    "h = calculos()\n",
    "h.factorial(4)\n",
    "\n",
    "h.conversion_grados(25,\"celsius\",'kelvin')\n",
    "\n",
    "h.primo_ch(7)\n",
    "\n",
    "h.repetido_max([5,5,5,5,4,2,3])"
   ]
  },
  {
   "cell_type": "code",
   "execution_count": null,
   "metadata": {},
   "outputs": [],
   "source": [
    "# 7 Es necesario que la clase creada en el punto 5 contenga una lista, \n",
    "# sobre la cual se aplquen las funciones incorporadas\n",
    "\n",
    "class calculos:\n",
    "    def __init__ (self, lista_numeros):\n",
    "        self.lista = lista_numeros\n",
    "    \n",
    "    def primo_ch(self)\n",
    "        for i in self.lista:\n",
    "                if (self.__verifica_primo(i)):\n",
    "                    print('El elemento', i, 'SI es un numero primo')\n",
    "                else:\n",
    "                    print('El elemento', i, 'NO es un numero primo')\n",
    "        \n",
    "    \n",
    "    \n",
    "    def __primo_ch (self,num):\n",
    "        primo = True\n",
    "        divisores = list(range(2,num))\n",
    "        for i in divisores:\n",
    "            if (num % i == 0):\n",
    "                primo = False            \n",
    "                break\n",
    "            else:\n",
    "                primo = True\n",
    "        return primo\n",
    "\n",
    "    def repetido_max(self,lista):\n",
    "        rep_maximas = 0\n",
    "        numrepetido = []\n",
    "        for elemento in lista:\n",
    "            repeticiones = lista.count(elemento)\n",
    "            if repeticiones > rep_maximas:\n",
    "                rep_maximas = repeticiones\n",
    "                numrepetido = elemento \n",
    "        return numrepetido, rep_maximas\n",
    "\n",
    "    def conversion_grados(self, valor, origen, destino):\n",
    "        valor_destino = None\n",
    "        if (origen == 'celsius'):\n",
    "            if (destino == 'celsius'):\n",
    "                valor_destino = valor\n",
    "            elif (destino == 'farenheit'):\n",
    "                valor_destino = (valor * 9 / 5) + 32\n",
    "            elif (destino == 'kelvin'):\n",
    "                valor_destino = valor + 273.15\n",
    "            else:\n",
    "                print('Parámetro de Destino incorrecto')\n",
    "        elif (origen == 'farenheit'):\n",
    "            if (destino == 'celsius'):\n",
    "                valor_destino = (valor - 32) * 5 / 9\n",
    "            elif (destino == 'farenheit'):\n",
    "                valor_destino = valor\n",
    "            elif (destino == 'kelvin'):\n",
    "                valor_destino = ((valor - 32) * 5 / 9) + 273.15\n",
    "            else:\n",
    "                print('Parámetro de Destino incorrecto')\n",
    "        elif (origen == 'kelvin'):\n",
    "            if (destino == 'celsius'):\n",
    "                valor_destino = valor - 273.15\n",
    "            elif (destino == 'farenheit'):\n",
    "                valor_destino = ((valor - 273.15) * 9 / 5) + 32\n",
    "            elif (destino == 'kelvin'):\n",
    "                valor_destino = valor\n",
    "            else:\n",
    "                print('Parámetro de Destino incorrecto')\n",
    "        else:\n",
    "            print('Parámetro de Origen incorrecto')\n",
    "        return valor_destino\n",
    "\n",
    "    def factorial(self, numero):\n",
    "        if(type(numero) != int):\n",
    "            return 'El numero debe ser un entero'\n",
    "        if(numero < 0):\n",
    "            return 'El numero debe ser pisitivo'\n",
    "        if (numero > 1):\n",
    "            numero = numero * self.factorial(numero - 1)\n",
    "        return numero"
   ]
  },
  {
   "cell_type": "code",
   "execution_count": 53,
   "metadata": {},
   "outputs": [],
   "source": [
    "from calculos import *"
   ]
  },
  {
   "cell_type": "code",
   "execution_count": null,
   "metadata": {},
   "outputs": [],
   "source": [
    "h2 = calculos([1,1,2,3,5,6,8,8])\n"
   ]
  }
 ],
 "metadata": {
  "interpreter": {
   "hash": "4138dce0fa74a6453ad2e7bd72e4222e8a2660a917e8bc73b32b3d62a6a94433"
  },
  "kernelspec": {
   "display_name": "Python 3.8.8 ('base')",
   "language": "python",
   "name": "python3"
  },
  "language_info": {
   "codemirror_mode": {
    "name": "ipython",
    "version": 3
   },
   "file_extension": ".py",
   "mimetype": "text/x-python",
   "name": "python",
   "nbconvert_exporter": "python",
   "pygments_lexer": "ipython3",
   "version": "3.8.8"
  },
  "orig_nbformat": 4
 },
 "nbformat": 4,
 "nbformat_minor": 2
}
