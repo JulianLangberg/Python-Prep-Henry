{
 "cells": [
  {
   "cell_type": "code",
   "execution_count": 48,
   "metadata": {},
   "outputs": [
    {
     "name": "stdout",
     "output_type": "stream",
     "text": [
      "['BuenosAires', 'Londres', 'Berlin', 'Lima', 'Montevideo']\n"
     ]
    }
   ],
   "source": [
    "# 1) Crear una lista que contenga nombres de ciudades del mundo \n",
    "# que contenga más de 5 elementos e imprimir por pantalla\n",
    "\n",
    "mi_lista = ['BuenosAires','Londres','Berlin','Lima','Montevideo']\n",
    "print(mi_lista)"
   ]
  },
  {
   "cell_type": "code",
   "execution_count": 3,
   "metadata": {},
   "outputs": [
    {
     "name": "stdout",
     "output_type": "stream",
     "text": [
      "Londres\n"
     ]
    }
   ],
   "source": [
    "#2) Imprimir por pantalla el segundo elemento de la lista\n",
    "print(mi_lista[1])"
   ]
  },
  {
   "cell_type": "code",
   "execution_count": 4,
   "metadata": {},
   "outputs": [
    {
     "name": "stdout",
     "output_type": "stream",
     "text": [
      "['Londres', 'Berlin', 'Lima', 'Montevideo']\n"
     ]
    }
   ],
   "source": [
    "#3) Imprimir por pantalla del segundo al cuarto elemento\n",
    "\n",
    "print(mi_lista[1:6])"
   ]
  },
  {
   "cell_type": "code",
   "execution_count": 9,
   "metadata": {},
   "outputs": [
    {
     "name": "stdout",
     "output_type": "stream",
     "text": [
      "<class 'str'>\n",
      "<class 'list'>\n"
     ]
    }
   ],
   "source": [
    "#4) Visualizar el tipo de dato de la lista\n",
    "\n",
    "print(type(mi_lista[0]))\n",
    "print(type(mi_lista))"
   ]
  },
  {
   "cell_type": "code",
   "execution_count": 11,
   "metadata": {},
   "outputs": [
    {
     "name": "stdout",
     "output_type": "stream",
     "text": [
      "['Berlin', 'Lima', 'Montevideo']\n"
     ]
    }
   ],
   "source": [
    "#5) Visualizar todos los elementos de la lista a partir del tercero de manera genérica\n",
    "#  es decir, sin explicitar la posición del último elemento\n",
    "\n",
    "print(mi_lista[2:])"
   ]
  },
  {
   "cell_type": "code",
   "execution_count": 12,
   "metadata": {},
   "outputs": [
    {
     "name": "stdout",
     "output_type": "stream",
     "text": [
      "['BuenosAires', 'Londres', 'Berlin', 'Lima', 'Montevideo']\n"
     ]
    }
   ],
   "source": [
    "#6) Visualizar los primeros 4 elementos de la lista\n",
    "\n",
    "print(mi_lista[:5])"
   ]
  },
  {
   "cell_type": "code",
   "execution_count": 49,
   "metadata": {},
   "outputs": [
    {
     "name": "stdout",
     "output_type": "stream",
     "text": [
      "['BuenosAires', 'Londres', 'Berlin', 'Lima', 'Montevideo', 'Berlin']\n",
      "No arroja ningun error \n"
     ]
    }
   ],
   "source": [
    "#7) Agregar una ciudad más a \n",
    "# la lista que ya exista y otra que no ¿Arroja algún tipo de error?\n",
    "mi_lista.append('Berlin')\n",
    "print(mi_lista)\n",
    "print(\"No arroja ningun error \")"
   ]
  },
  {
   "cell_type": "code",
   "execution_count": 50,
   "metadata": {},
   "outputs": [
    {
     "name": "stdout",
     "output_type": "stream",
     "text": [
      "['BuenosAires', 'Londres', 'Berlin', 'Juliancity', 'Lima', 'Montevideo', 'Berlin']\n"
     ]
    }
   ],
   "source": [
    "#8) Agregar otra ciudad, pero en la cuarta posición\n",
    "\n",
    "mi_lista.insert(3,\"Juliancity\")\n",
    "#mi_lista.remove(\"Juliancity\")\n",
    "\n",
    "print(mi_lista)"
   ]
  },
  {
   "cell_type": "code",
   "execution_count": 51,
   "metadata": {},
   "outputs": [
    {
     "name": "stdout",
     "output_type": "stream",
     "text": [
      "['BuenosAires', 'Londres', 'Berlin', 'Juliancity', 'Lima', 'Montevideo', 'Berlin', 'MX City', 'Washington', 'Tokio', 'Kioto']\n"
     ]
    }
   ],
   "source": [
    "#9) Concatenar otra lista a la ya creada\n",
    "\n",
    "ciudades2 = ['MX City','Washington','Tokio','Kioto']\n",
    "\n",
    "mi_lista.extend(ciudades2)\n",
    "\n",
    "print(mi_lista)"
   ]
  },
  {
   "cell_type": "code",
   "execution_count": 30,
   "metadata": {},
   "outputs": [
    {
     "data": {
      "text/plain": [
       "2"
      ]
     },
     "execution_count": 30,
     "metadata": {},
     "output_type": "execute_result"
    }
   ],
   "source": [
    "# 10) Encontrar el índice de la ciudad que en el punto 7 agregamos duplicada. \n",
    "# ¿Se nota alguna particularidad?\n",
    "\n",
    "mi_lista.index(\"Berlin\")"
   ]
  },
  {
   "cell_type": "code",
   "execution_count": 31,
   "metadata": {},
   "outputs": [
    {
     "ename": "ValueError",
     "evalue": "'CiudadXxx' is not in list",
     "output_type": "error",
     "traceback": [
      "\u001b[1;31m---------------------------------------------------------------------------\u001b[0m",
      "\u001b[1;31mValueError\u001b[0m                                Traceback (most recent call last)",
      "\u001b[1;32m<ipython-input-31-338a440fc2c7>\u001b[0m in \u001b[0;36m<module>\u001b[1;34m\u001b[0m\n\u001b[0;32m      1\u001b[0m \u001b[1;31m# 11) ¿Qué pasa si se busca un elemento que no existe?\u001b[0m\u001b[1;33m\u001b[0m\u001b[1;33m\u001b[0m\u001b[1;33m\u001b[0m\u001b[0m\n\u001b[0;32m      2\u001b[0m \u001b[1;33m\u001b[0m\u001b[0m\n\u001b[1;32m----> 3\u001b[1;33m \u001b[0mmi_lista\u001b[0m\u001b[1;33m.\u001b[0m\u001b[0mindex\u001b[0m\u001b[1;33m(\u001b[0m\u001b[1;34m\"CiudadXxx\"\u001b[0m\u001b[1;33m)\u001b[0m\u001b[1;33m\u001b[0m\u001b[1;33m\u001b[0m\u001b[0m\n\u001b[0m",
      "\u001b[1;31mValueError\u001b[0m: 'CiudadXxx' is not in list"
     ]
    }
   ],
   "source": [
    "# 11) ¿Qué pasa si se busca un elemento que no existe?\n",
    "\n",
    "mi_lista.index(\"CiudadXxx\")"
   ]
  },
  {
   "cell_type": "code",
   "execution_count": 52,
   "metadata": {},
   "outputs": [
    {
     "ename": "ValueError",
     "evalue": "list.remove(x): x not in list",
     "output_type": "error",
     "traceback": [
      "\u001b[1;31m---------------------------------------------------------------------------\u001b[0m",
      "\u001b[1;31mValueError\u001b[0m                                Traceback (most recent call last)",
      "\u001b[1;32m<ipython-input-52-7ee6828d0535>\u001b[0m in \u001b[0;36m<module>\u001b[1;34m\u001b[0m\n\u001b[0;32m      2\u001b[0m \u001b[1;31m#13) ¿Qué pasa si el elemento a eliminar no existe?\u001b[0m\u001b[1;33m\u001b[0m\u001b[1;33m\u001b[0m\u001b[1;33m\u001b[0m\u001b[0m\n\u001b[0;32m      3\u001b[0m \u001b[1;33m\u001b[0m\u001b[0m\n\u001b[1;32m----> 4\u001b[1;33m \u001b[0mmi_lista\u001b[0m\u001b[1;33m.\u001b[0m\u001b[0mremove\u001b[0m\u001b[1;33m(\u001b[0m\u001b[1;34m\"CasaAni\"\u001b[0m\u001b[1;33m)\u001b[0m\u001b[1;33m\u001b[0m\u001b[1;33m\u001b[0m\u001b[0m\n\u001b[0m",
      "\u001b[1;31mValueError\u001b[0m: list.remove(x): x not in list"
     ]
    }
   ],
   "source": [
    "#12) Eliminar un elemento de la lista\n",
    "#13) ¿Qué pasa si el elemento a eliminar no existe?\n",
    "\n",
    "mi_lista.remove(\"CasaAni\")"
   ]
  },
  {
   "cell_type": "code",
   "execution_count": 53,
   "metadata": {},
   "outputs": [
    {
     "name": "stdout",
     "output_type": "stream",
     "text": [
      "Kioto\n"
     ]
    }
   ],
   "source": [
    "# 14) Extraer el úlimo elemento de la lista, guardarlo en una variable e imprimirlo\n",
    "\n",
    "guardado_ultima_variable_mis_ciudades_de_prep_1 = mi_lista.pop((len(mi_lista)-1))\n",
    "print(guardado_ultima_variable_mis_ciudades_de_prep_1)"
   ]
  },
  {
   "cell_type": "code",
   "execution_count": 54,
   "metadata": {},
   "outputs": [
    {
     "name": "stdout",
     "output_type": "stream",
     "text": [
      "['BuenosAires', 'Londres', 'Berlin', 'Juliancity', 'Lima', 'Montevideo', 'Berlin', 'MX City', 'Washington', 'Tokio', 'BuenosAires', 'Londres', 'Berlin', 'Juliancity', 'Lima', 'Montevideo', 'Berlin', 'MX City', 'Washington', 'Tokio', 'BuenosAires', 'Londres', 'Berlin', 'Juliancity', 'Lima', 'Montevideo', 'Berlin', 'MX City', 'Washington', 'Tokio', 'BuenosAires', 'Londres', 'Berlin', 'Juliancity', 'Lima', 'Montevideo', 'Berlin', 'MX City', 'Washington', 'Tokio']\n"
     ]
    }
   ],
   "source": [
    "#15) Mostrar la lista multiplicada por 4\n",
    "print(mi_lista*4)"
   ]
  },
  {
   "cell_type": "code",
   "execution_count": 37,
   "metadata": {},
   "outputs": [
    {
     "name": "stdout",
     "output_type": "stream",
     "text": [
      "(1, 2, 3, 4, 5, 6, 7, 8, 9, 10, 11, 12, 13, 14, 15, 16, 17, 18, 19, 20)\n"
     ]
    }
   ],
   "source": [
    "#16) Crear una tupla que contenga los números enteros del 1 al 20\n",
    "\n",
    "mi_tupla=tuple(range(1,21))\n",
    "print(mi_tupla)"
   ]
  },
  {
   "cell_type": "code",
   "execution_count": 41,
   "metadata": {},
   "outputs": [
    {
     "name": "stdout",
     "output_type": "stream",
     "text": [
      "(11, 12, 13, 14, 15, 16)\n"
     ]
    }
   ],
   "source": [
    "#17) Imprimir desde el índice 10 al 15 de la tupla\n",
    "\n",
    "print(mi_tupla[10:16])"
   ]
  },
  {
   "cell_type": "code",
   "execution_count": 43,
   "metadata": {},
   "outputs": [
    {
     "name": "stdout",
     "output_type": "stream",
     "text": [
      "True\n",
      "False\n"
     ]
    }
   ],
   "source": [
    "# 18) Evaluar si los números 20 y 30 están dentro de la tupla\n",
    "\n",
    "print(20 in mi_tupla)\n",
    "print(30 in mi_tupla)"
   ]
  },
  {
   "cell_type": "code",
   "execution_count": 56,
   "metadata": {},
   "outputs": [
    {
     "name": "stdout",
     "output_type": "stream",
     "text": [
      "False\n",
      "['BuenosAires', 'Londres', 'Berlin', 'Juliancity', 'Lima', 'Montevideo', 'Berlin', 'MX City', 'Washington', 'Tokio', 'Paris']\n"
     ]
    }
   ],
   "source": [
    "#19) Con la lista creada en el punto 1, validar la existencia del elemento 'París' \n",
    "# y si no existe, agregarlo. Utilizar una variable e informar lo sucedido.\n",
    "\n",
    "CiudadExtra = \"Paris\"\n",
    "\n",
    "print(CiudadExtra in mi_lista)\n",
    "mi_lista.append(CiudadExtra)\n",
    "print(mi_lista)"
   ]
  },
  {
   "cell_type": "code",
   "execution_count": 60,
   "metadata": {},
   "outputs": [
    {
     "name": "stdout",
     "output_type": "stream",
     "text": [
      "2\n",
      "2\n"
     ]
    }
   ],
   "source": [
    "# 20) Mostrar la cantidad de veces \n",
    "# que se encuentra un elemento específico dentro de la tupla y de la lista\n",
    "\n",
    "print(mi_lista.count(\"Berlin\"))\n",
    "print(mi_lista.count(mi_lista[2]))"
   ]
  },
  {
   "cell_type": "code",
   "execution_count": 61,
   "metadata": {},
   "outputs": [
    {
     "name": "stdout",
     "output_type": "stream",
     "text": [
      "('BuenosAires', 'Londres', 'Berlin', 'Juliancity', 'Lima', 'Montevideo', 'Berlin', 'MX City', 'Washington', 'Tokio', 'Paris')\n"
     ]
    }
   ],
   "source": [
    "# 21) Convertir la tupla en una lista\n",
    "\n",
    "mi_nueva_tupla = tuple(mi_lista)\n",
    "print(mi_nueva_tupla)"
   ]
  },
  {
   "cell_type": "code",
   "execution_count": 68,
   "metadata": {},
   "outputs": [
    {
     "name": "stdout",
     "output_type": "stream",
     "text": [
      "BuenosAires Londres Berlin\n"
     ]
    }
   ],
   "source": [
    "#22) Desempaquetar solo los primeros 3 elementos de la tupla en 3 variables\n",
    "\n",
    "ciudad1, ciudad2, ciudad3, *other = mi_nueva_tupla\n",
    "print(ciudad1, ciudad2, ciudad3)"
   ]
  },
  {
   "cell_type": "code",
   "execution_count": 69,
   "metadata": {},
   "outputs": [
    {
     "name": "stdout",
     "output_type": "stream",
     "text": [
      "{'ciudad': ['BuenosAires', 'Londres', 'Berlin', 'Juliancity', 'Lima', 'Montevideo', 'Berlin', 'MX City', 'Washington', 'Tokio', 'Paris'], 'Pais': '', 'Continente': ''}\n"
     ]
    }
   ],
   "source": [
    "#23) Crear un diccionario utilizando la lista crada en el punto 1, asignandole la clave \"ciudad\". \n",
    "# Agregar tambien otras claves, como puede ser \"Pais\" y \"Continente\".\n",
    "\n",
    "mi_diccionario = {\"ciudad\":mi_lista,\"Pais\":\"\",\"Continente\":\"\"}\n",
    "print(mi_diccionario)\n"
   ]
  },
  {
   "cell_type": "code",
   "execution_count": 70,
   "metadata": {},
   "outputs": [
    {
     "name": "stdout",
     "output_type": "stream",
     "text": [
      "dict_keys(['ciudad', 'Pais', 'Continente'])\n"
     ]
    }
   ],
   "source": [
    "# 24) Imprimir las claves del diccionario\n",
    "print(mi_diccionario.keys())"
   ]
  },
  {
   "cell_type": "code",
   "execution_count": 71,
   "metadata": {},
   "outputs": [
    {
     "name": "stdout",
     "output_type": "stream",
     "text": [
      "['BuenosAires', 'Londres', 'Berlin', 'Juliancity', 'Lima', 'Montevideo', 'Berlin', 'MX City', 'Washington', 'Tokio', 'Paris']\n"
     ]
    }
   ],
   "source": [
    "# 25) Imprimir las ciudades a través de su clave\n",
    "\n",
    "print(mi_diccionario['ciudad'])"
   ]
  }
 ],
 "metadata": {
  "interpreter": {
   "hash": "4138dce0fa74a6453ad2e7bd72e4222e8a2660a917e8bc73b32b3d62a6a94433"
  },
  "kernelspec": {
   "display_name": "Python 3.8.8 ('base')",
   "language": "python",
   "name": "python3"
  },
  "language_info": {
   "codemirror_mode": {
    "name": "ipython",
    "version": 3
   },
   "file_extension": ".py",
   "mimetype": "text/x-python",
   "name": "python",
   "nbconvert_exporter": "python",
   "pygments_lexer": "ipython3",
   "version": "3.8.8"
  },
  "orig_nbformat": 4
 },
 "nbformat": 4,
 "nbformat_minor": 2
}
