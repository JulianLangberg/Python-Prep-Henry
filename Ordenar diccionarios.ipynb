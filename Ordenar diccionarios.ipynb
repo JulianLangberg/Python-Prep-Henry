{
 "cells": [
  {
   "cell_type": "code",
   "execution_count": 8,
   "metadata": {},
   "outputs": [],
   "source": [
    "def factorial(numero):\n",
    "    '''\n",
    "    Esta función devuelve el factorial del número pasado como parámetro.\n",
    "    En caso de que no sea de tipo entero y/o sea menor que 1, debe retornar nulo.\n",
    "    Recibe un argumento:\n",
    "        numero: Será el número con el que se calcule el factorial\n",
    "    Ej:\n",
    "        Factorial(4) debe retornar 24\n",
    "        Factorial(-2) debe retornar nulo\n",
    "    '''\n",
    "    check_num = numero\n",
    "    if(type(check_num) == int): \n",
    "        if(check_num > 0):\n",
    "            if (numero > 1):\n",
    "                numero = numero * factorial(numero - 1)\n",
    "            return numero\n",
    "        else:\n",
    "            return None\n",
    "    else:\n",
    "        return None"
   ]
  },
  {
   "cell_type": "code",
   "execution_count": 10,
   "metadata": {},
   "outputs": [
    {
     "data": {
      "text/plain": [
       "720"
      ]
     },
     "execution_count": 10,
     "metadata": {},
     "output_type": "execute_result"
    }
   ],
   "source": [
    "factorial(6)"
   ]
  },
  {
   "cell_type": "code",
   "execution_count": 14,
   "metadata": {},
   "outputs": [
    {
     "ename": "NameError",
     "evalue": "name 'lista_indices_ordenados' is not defined",
     "output_type": "error",
     "traceback": [
      "\u001b[1;31m---------------------------------------------------------------------------\u001b[0m",
      "\u001b[1;31mNameError\u001b[0m                                 Traceback (most recent call last)",
      "\u001b[1;32m<ipython-input-14-a81c119ce7d2>\u001b[0m in \u001b[0;36m<module>\u001b[1;34m\u001b[0m\n\u001b[0;32m     40\u001b[0m \u001b[1;33m\u001b[0m\u001b[0m\n\u001b[0;32m     41\u001b[0m \u001b[1;33m\u001b[0m\u001b[0m\n\u001b[1;32m---> 42\u001b[1;33m \u001b[0mprint\u001b[0m\u001b[1;33m(\u001b[0m\u001b[0mlista_indices_ordenados\u001b[0m\u001b[1;33m)\u001b[0m\u001b[1;33m\u001b[0m\u001b[1;33m\u001b[0m\u001b[0m\n\u001b[0m\u001b[0;32m     43\u001b[0m \u001b[0mprint\u001b[0m\u001b[1;33m(\u001b[0m\u001b[0maordenar1\u001b[0m\u001b[1;33m)\u001b[0m\u001b[1;33m\u001b[0m\u001b[1;33m\u001b[0m\u001b[0m\n\u001b[0;32m     44\u001b[0m \u001b[0mprint\u001b[0m\u001b[1;33m(\u001b[0m\u001b[0maordenar1OK\u001b[0m\u001b[1;33m)\u001b[0m\u001b[1;33m\u001b[0m\u001b[1;33m\u001b[0m\u001b[0m\n",
      "\u001b[1;31mNameError\u001b[0m: name 'lista_indices_ordenados' is not defined"
     ]
    }
   ],
   "source": [
    "def OrdenarDiccionario(diccionario_par, clave, descendente=True):\n",
    "    \n",
    "    keys = diccionario_par.keys()\n",
    "\n",
    "    for e in keys:\n",
    "        if clave == e\n",
    "        aux=True\n",
    "    if aux:\n",
    "    diccionario_par = {\n",
    "    'clave1':['c','a','b'],\n",
    "    'clave2':['casa','auto','barco'],\n",
    "    'clave3':[1,2,3]\n",
    "    }\n",
    "\n",
    "    dicc = diccionario_par\n",
    "\n",
    "    aordenar1 = dicc['clave1']\n",
    "    aordenar2 = dicc['clave2']\n",
    "    aordenar3 = dicc['clave3']\n",
    "    dicc_ord = sorted(dicc[clave], desc=True)\n",
    "\n",
    "    aordenar1OK = [] \n",
    "    aordenar2OK = [] \n",
    "    aordenar3OK = []             \n",
    "    lista_indices_ordenados = []\n",
    "    index_nuevo = []\n",
    "    index_nuevo1 = []\n",
    "    for e in dicc_ord:\n",
    "        for j in dicc[clave]:\n",
    "            if e == j:\n",
    "                index_nuevo = aordenar1.index(j)\n",
    "                lista_indices_ordenados.append(index_nuevo)\n",
    "    aordenar1OK = []\n",
    "    aordenar2OK = []\n",
    "    aordenar3OK = []\n",
    "\n",
    "    for index in lista_indices_ordenados:\n",
    "\n",
    "        index_nuevo1 = aordenar1[index]\n",
    "        aordenar1OK.append(index_nuevo1)\n",
    "\n",
    "        index_nuevo2 = aordenar2[index]\n",
    "        aordenar2OK.append(index_nuevo2)\n",
    "\n",
    "        index_nuevo3 = aordenar3[index]\n",
    "        aordenar3OK.append(index_nuevo3)\n",
    "\n",
    "\n",
    "    print(lista_indices_ordenados)\n",
    "    print(aordenar1)\n",
    "    print(aordenar1OK)\n",
    "    print(aordenar2OK)\n",
    "    print(aordenar3OK) \n",
    "\n",
    " "
   ]
  },
  {
   "cell_type": "code",
   "execution_count": 36,
   "metadata": {},
   "outputs": [
    {
     "name": "stdout",
     "output_type": "stream",
     "text": [
      "[0, 1, 2]\n",
      "{'clave1': ['c', 'a', 'b'], 'clave2': ['casa', 'auto', 'barco'], 'clave3': [1, 2, 3]}\n",
      "['c', 'a', 'b']\n",
      "['casa', 'auto', 'barco']\n",
      "[1, 2, 3]\n"
     ]
    }
   ],
   "source": [
    "def OrdenarDiccionario(diccionario_par, clave, descendente=True):\n",
    "    if diccionario_par == dict:\n",
    "        clave = 'clave3'\n",
    "        diccionario_par = {\n",
    "        'clave1':['c','a','b'],\n",
    "        'clave2':['casa','auto','barco'],\n",
    "        'clave3':[1,2,3]\n",
    "        }\n",
    "\n",
    "        keys = diccionario_par.keys()\n",
    "        dicc = diccionario_par\n",
    "\n",
    "        aordenar1 = dicc['clave1']\n",
    "        aordenar2 = dicc['clave2']\n",
    "        aordenar3 = dicc['clave3']\n",
    "        dicc_ord = sorted(dicc[clave], reverse=descendente)\n",
    "\n",
    "        aordenar1OK = [] \n",
    "        aordenar2OK = [] \n",
    "        aordenar3OK = []             \n",
    "        lista_indices_ordenados = []\n",
    "        index_nuevo = []\n",
    "        index_nuevo1 = []\n",
    "        for e in dicc_ord:\n",
    "            for j in dicc[clave]:\n",
    "                if e == j:\n",
    "                    index_nuevo = dicc[clave].index(j)\n",
    "                    lista_indices_ordenados.append(index_nuevo)\n",
    "\n",
    "        aordenar1OK = []\n",
    "        aordenar2OK = []\n",
    "        aordenar3OK = []\n",
    "\n",
    "        for index in lista_indices_ordenados:\n",
    "\n",
    "            index_nuevo1 = aordenar1[index]\n",
    "            aordenar1OK.append(index_nuevo1)\n",
    "\n",
    "            index_nuevo2 = aordenar2[index]\n",
    "            aordenar2OK.append(index_nuevo2)\n",
    "\n",
    "            index_nuevo3 = aordenar3[index]\n",
    "            aordenar3OK.append(index_nuevo3)\n",
    "\n",
    "        dicc_final = {}\n",
    "        dicc_final = {'clave1':aordenar1OK,'clave2':aordenar2OK,'clave3':aordenar3OK}\n",
    "        return dicc_final\n",
    "    else:\n",
    "        return None\n",
    "print(lista_indices_ordenados)\n",
    "print(dicc_final)\n",
    "print(aordenar1OK)\n",
    "print(aordenar2OK)\n",
    "print(aordenar3OK)"
   ]
  }
 ],
 "metadata": {
  "interpreter": {
   "hash": "4138dce0fa74a6453ad2e7bd72e4222e8a2660a917e8bc73b32b3d62a6a94433"
  },
  "kernelspec": {
   "display_name": "Python 3.8.8 ('base')",
   "language": "python",
   "name": "python3"
  },
  "language_info": {
   "codemirror_mode": {
    "name": "ipython",
    "version": 3
   },
   "file_extension": ".py",
   "mimetype": "text/x-python",
   "name": "python",
   "nbconvert_exporter": "python",
   "pygments_lexer": "ipython3",
   "version": "3.8.8"
  },
  "orig_nbformat": 4
 },
 "nbformat": 4,
 "nbformat_minor": 2
}
